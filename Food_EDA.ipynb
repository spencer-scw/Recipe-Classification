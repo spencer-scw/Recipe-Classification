{
 "cells": [
  {
   "cell_type": "code",
   "execution_count": 3,
   "metadata": {},
   "outputs": [],
   "source": [
    "import pandas as pd\n",
    "import numpy as np\n",
    "from ast import literal_eval"
   ]
  },
  {
   "cell_type": "code",
   "execution_count": 4,
   "metadata": {},
   "outputs": [],
   "source": [
    "df = pd.read_csv('recipes_w_search_terms.csv')"
   ]
  },
  {
   "cell_type": "code",
   "execution_count": 45,
   "metadata": {},
   "outputs": [],
   "source": [
    "orig_df = df"
   ]
  },
  {
   "cell_type": "code",
   "execution_count": null,
   "metadata": {},
   "outputs": [],
   "source": [
    "df = orig_df"
   ]
  },
  {
   "cell_type": "code",
   "execution_count": 57,
   "metadata": {},
   "outputs": [],
   "source": [
    "df[\"ingredients\"] = df[\"ingredients\"].apply(literal_eval)\n",
    "df[\"steps\"] = df[\"steps\"].apply(literal_eval)"
   ]
  },
  {
   "cell_type": "code",
   "execution_count": 5,
   "metadata": {},
   "outputs": [],
   "source": [
    "df[\"tags\"] = df[\"tags\"].apply(literal_eval)\n",
    "df[\"search_terms\"] = df[\"search_terms\"].apply(literal_eval)"
   ]
  },
  {
   "cell_type": "code",
   "execution_count": 6,
   "metadata": {},
   "outputs": [
    {
     "data": {
      "text/html": [
       "<div>\n",
       "<style scoped>\n",
       "    .dataframe tbody tr th:only-of-type {\n",
       "        vertical-align: middle;\n",
       "    }\n",
       "\n",
       "    .dataframe tbody tr th {\n",
       "        vertical-align: top;\n",
       "    }\n",
       "\n",
       "    .dataframe thead th {\n",
       "        text-align: right;\n",
       "    }\n",
       "</style>\n",
       "<table border=\"1\" class=\"dataframe\">\n",
       "  <thead>\n",
       "    <tr style=\"text-align: right;\">\n",
       "      <th></th>\n",
       "      <th>id</th>\n",
       "      <th>name</th>\n",
       "      <th>description</th>\n",
       "      <th>ingredients</th>\n",
       "      <th>ingredients_raw_str</th>\n",
       "      <th>serving_size</th>\n",
       "      <th>servings</th>\n",
       "      <th>steps</th>\n",
       "      <th>tags</th>\n",
       "      <th>search_terms</th>\n",
       "    </tr>\n",
       "  </thead>\n",
       "  <tbody>\n",
       "    <tr>\n",
       "      <th>16</th>\n",
       "      <td>232099</td>\n",
       "      <td>Scarlett's Crock Pot Cheese (And Prawn) Fondue...</td>\n",
       "      <td>Ideal for long hot summer days when you don't ...</td>\n",
       "      <td>['butter', 'shallots', 'prawns', 'garlic clove...</td>\n",
       "      <td>[\"1   tablespoon    butter\",\"2       shallots,...</td>\n",
       "      <td>1 (74 g)</td>\n",
       "      <td>6</td>\n",
       "      <td>['Preheat the cooker to high whilst preparing ...</td>\n",
       "      <td>[time-to-make, course, main-ingredient, cuisin...</td>\n",
       "      <td>{appetizer, dinner}</td>\n",
       "    </tr>\n",
       "    <tr>\n",
       "      <th>34</th>\n",
       "      <td>350688</td>\n",
       "      <td>Roasted Shrimp Cocktail</td>\n",
       "      <td>This recipe for shrimp cocktail is way better ...</td>\n",
       "      <td>['shrimp', 'olive oil', 'kosher salt', 'fresh ...</td>\n",
       "      <td>[\"2   lbs    shrimp\",\"1   tablespoon    olive ...</td>\n",
       "      <td>1 (115 g)</td>\n",
       "      <td>6</td>\n",
       "      <td>['Preheat the oven to 400 degrees F.', 'Peel a...</td>\n",
       "      <td>[15-minutes-or-less, time-to-make, course, mai...</td>\n",
       "      <td>{low-carb, snack, low-calorie, lunch, appetize...</td>\n",
       "    </tr>\n",
       "    <tr>\n",
       "      <th>35</th>\n",
       "      <td>232115</td>\n",
       "      <td>Caramel Butter Brie</td>\n",
       "      <td>This makes a wonderful sweet/salty appetizer t...</td>\n",
       "      <td>['butter', 'light brown sugar', 'white sugar',...</td>\n",
       "      <td>[\"1/4  cup    butter\",\"1/4  cup    light brown...</td>\n",
       "      <td>1 (77 g)</td>\n",
       "      <td>8</td>\n",
       "      <td>['Preheat oven to 350 degrees.', 'Melt butter,...</td>\n",
       "      <td>[60-minutes-or-less, time-to-make, course, mai...</td>\n",
       "      <td>{appetizer}</td>\n",
       "    </tr>\n",
       "    <tr>\n",
       "      <th>39</th>\n",
       "      <td>127155</td>\n",
       "      <td>Crab &amp;amp; Fresh Basil Stuffed Mushrooms</td>\n",
       "      <td>A wonderful tasting and attractive hors d’oeuv...</td>\n",
       "      <td>['monterey jack cheese', 'plain breadcrumbs', ...</td>\n",
       "      <td>[\"3   cups    monterey jack cheese, shredded  ...</td>\n",
       "      <td>1 (185 g)</td>\n",
       "      <td>8</td>\n",
       "      <td>['Combine cheese, breadcrumbs, salt, green oni...</td>\n",
       "      <td>[60-minutes-or-less, time-to-make, course, mai...</td>\n",
       "      <td>{low-calorie, low-carb, appetizer, dinner}</td>\n",
       "    </tr>\n",
       "    <tr>\n",
       "      <th>41</th>\n",
       "      <td>145160</td>\n",
       "      <td>Thanksgiving Mashed Potatoes</td>\n",
       "      <td>Mashed potatoes for this special occasion</td>\n",
       "      <td>['potatoes', 'butter', 'salt', 'milk', 'chicke...</td>\n",
       "      <td>[\"5   large    potatoes (washed)\",\"1/2  cup   ...</td>\n",
       "      <td>1 (538 g)</td>\n",
       "      <td>5</td>\n",
       "      <td>['Bake the potatoes and when ready, mash them ...</td>\n",
       "      <td>[15-minutes-or-less, time-to-make, course, mai...</td>\n",
       "      <td>{side, low-calorie, appetizer}</td>\n",
       "    </tr>\n",
       "    <tr>\n",
       "      <th>...</th>\n",
       "      <td>...</td>\n",
       "      <td>...</td>\n",
       "      <td>...</td>\n",
       "      <td>...</td>\n",
       "      <td>...</td>\n",
       "      <td>...</td>\n",
       "      <td>...</td>\n",
       "      <td>...</td>\n",
       "      <td>...</td>\n",
       "      <td>...</td>\n",
       "    </tr>\n",
       "    <tr>\n",
       "      <th>494868</th>\n",
       "      <td>229578</td>\n",
       "      <td>Curried Corn-Crab Cakes</td>\n",
       "      <td>A fanastic twist on crab cakes.</td>\n",
       "      <td>['fresh corn kernels', 'onion', 'red bell pepp...</td>\n",
       "      <td>[\"3/4  cup    fresh corn kernels (about 2 ears...</td>\n",
       "      <td>1 (115 g)</td>\n",
       "      <td>8</td>\n",
       "      <td>['Heat a large nonstick skillet over medium-hi...</td>\n",
       "      <td>[30-minutes-or-less, time-to-make, course, mai...</td>\n",
       "      <td>{appetizer, dinner}</td>\n",
       "    </tr>\n",
       "    <tr>\n",
       "      <th>494878</th>\n",
       "      <td>215289</td>\n",
       "      <td>I-Love-Pickles Fried Dill Pickles</td>\n",
       "      <td>Everyone should try this southern treat just o...</td>\n",
       "      <td>['all-purpose flour', 'cornstarch', 'baking po...</td>\n",
       "      <td>[\"1   cup    all-purpose flour\",\"1/4  cup    c...</td>\n",
       "      <td>1 (123 g)</td>\n",
       "      <td>8</td>\n",
       "      <td>['Stir flour, cornstarch, baking powder and sa...</td>\n",
       "      <td>[60-minutes-or-less, time-to-make, course, mai...</td>\n",
       "      <td>{side, appetizer}</td>\n",
       "    </tr>\n",
       "    <tr>\n",
       "      <th>494898</th>\n",
       "      <td>227056</td>\n",
       "      <td>Oven Baked Zucchini Slices</td>\n",
       "      <td>This is so easy to make, and so good! Better f...</td>\n",
       "      <td>['breadcrumbs', 'parmesan cheese', 'mayonnaise...</td>\n",
       "      <td>[\"1/4  cup    breadcrumbs (plain or Italian)\",...</td>\n",
       "      <td>1 (62 g)</td>\n",
       "      <td>4</td>\n",
       "      <td>['Mix bread crumbs and cheese in one bowl.', '...</td>\n",
       "      <td>[30-minutes-or-less, time-to-make, course, mai...</td>\n",
       "      <td>{side, appetizer, baked}</td>\n",
       "    </tr>\n",
       "    <tr>\n",
       "      <th>494931</th>\n",
       "      <td>126024</td>\n",
       "      <td>Cheese Straws</td>\n",
       "      <td>Interesting.</td>\n",
       "      <td>['flour', 'salt', 'cheese', 'shortening', 'wat...</td>\n",
       "      <td>[\"1   cup    flour\",\"1/2  teaspoon    salt\",\"1...</td>\n",
       "      <td>1 (74 g)</td>\n",
       "      <td>4</td>\n",
       "      <td>['Mix flour, salt, cheese and shortening.', 'A...</td>\n",
       "      <td>[15-minutes-or-less, time-to-make, course, mai...</td>\n",
       "      <td>{side, appetizer}</td>\n",
       "    </tr>\n",
       "    <tr>\n",
       "      <th>494941</th>\n",
       "      <td>432730</td>\n",
       "      <td>Garlic Avocado Dip</td>\n",
       "      <td>I serve this with sliced baguette bread (this ...</td>\n",
       "      <td>['avocados', 'cream cheese', 'garlic cloves', ...</td>\n",
       "      <td>[\"4   large    avocados\",\"8   ounces    cream ...</td>\n",
       "      <td>1 (121 g)</td>\n",
       "      <td>8</td>\n",
       "      <td>['Cut avocados and remove the pit and the skin...</td>\n",
       "      <td>[15-minutes-or-less, time-to-make, course, pre...</td>\n",
       "      <td>{low-carb, appetizer, low-sodium}</td>\n",
       "    </tr>\n",
       "  </tbody>\n",
       "</table>\n",
       "<p>47845 rows × 10 columns</p>\n",
       "</div>"
      ],
      "text/plain": [
       "            id                                               name  \\\n",
       "16      232099  Scarlett's Crock Pot Cheese (And Prawn) Fondue...   \n",
       "34      350688                            Roasted Shrimp Cocktail   \n",
       "35      232115                                Caramel Butter Brie   \n",
       "39      127155           Crab &amp; Fresh Basil Stuffed Mushrooms   \n",
       "41      145160                       Thanksgiving Mashed Potatoes   \n",
       "...        ...                                                ...   \n",
       "494868  229578                            Curried Corn-Crab Cakes   \n",
       "494878  215289                  I-Love-Pickles Fried Dill Pickles   \n",
       "494898  227056                         Oven Baked Zucchini Slices   \n",
       "494931  126024                                      Cheese Straws   \n",
       "494941  432730                                 Garlic Avocado Dip   \n",
       "\n",
       "                                              description  \\\n",
       "16      Ideal for long hot summer days when you don't ...   \n",
       "34      This recipe for shrimp cocktail is way better ...   \n",
       "35      This makes a wonderful sweet/salty appetizer t...   \n",
       "39      A wonderful tasting and attractive hors d’oeuv...   \n",
       "41              Mashed potatoes for this special occasion   \n",
       "...                                                   ...   \n",
       "494868                    A fanastic twist on crab cakes.   \n",
       "494878  Everyone should try this southern treat just o...   \n",
       "494898  This is so easy to make, and so good! Better f...   \n",
       "494931                                       Interesting.   \n",
       "494941  I serve this with sliced baguette bread (this ...   \n",
       "\n",
       "                                              ingredients  \\\n",
       "16      ['butter', 'shallots', 'prawns', 'garlic clove...   \n",
       "34      ['shrimp', 'olive oil', 'kosher salt', 'fresh ...   \n",
       "35      ['butter', 'light brown sugar', 'white sugar',...   \n",
       "39      ['monterey jack cheese', 'plain breadcrumbs', ...   \n",
       "41      ['potatoes', 'butter', 'salt', 'milk', 'chicke...   \n",
       "...                                                   ...   \n",
       "494868  ['fresh corn kernels', 'onion', 'red bell pepp...   \n",
       "494878  ['all-purpose flour', 'cornstarch', 'baking po...   \n",
       "494898  ['breadcrumbs', 'parmesan cheese', 'mayonnaise...   \n",
       "494931  ['flour', 'salt', 'cheese', 'shortening', 'wat...   \n",
       "494941  ['avocados', 'cream cheese', 'garlic cloves', ...   \n",
       "\n",
       "                                      ingredients_raw_str serving_size  \\\n",
       "16      [\"1   tablespoon    butter\",\"2       shallots,...     1 (74 g)   \n",
       "34      [\"2   lbs    shrimp\",\"1   tablespoon    olive ...    1 (115 g)   \n",
       "35      [\"1/4  cup    butter\",\"1/4  cup    light brown...     1 (77 g)   \n",
       "39      [\"3   cups    monterey jack cheese, shredded  ...    1 (185 g)   \n",
       "41      [\"5   large    potatoes (washed)\",\"1/2  cup   ...    1 (538 g)   \n",
       "...                                                   ...          ...   \n",
       "494868  [\"3/4  cup    fresh corn kernels (about 2 ears...    1 (115 g)   \n",
       "494878  [\"1   cup    all-purpose flour\",\"1/4  cup    c...    1 (123 g)   \n",
       "494898  [\"1/4  cup    breadcrumbs (plain or Italian)\",...     1 (62 g)   \n",
       "494931  [\"1   cup    flour\",\"1/2  teaspoon    salt\",\"1...     1 (74 g)   \n",
       "494941  [\"4   large    avocados\",\"8   ounces    cream ...    1 (121 g)   \n",
       "\n",
       "        servings                                              steps  \\\n",
       "16             6  ['Preheat the cooker to high whilst preparing ...   \n",
       "34             6  ['Preheat the oven to 400 degrees F.', 'Peel a...   \n",
       "35             8  ['Preheat oven to 350 degrees.', 'Melt butter,...   \n",
       "39             8  ['Combine cheese, breadcrumbs, salt, green oni...   \n",
       "41             5  ['Bake the potatoes and when ready, mash them ...   \n",
       "...          ...                                                ...   \n",
       "494868         8  ['Heat a large nonstick skillet over medium-hi...   \n",
       "494878         8  ['Stir flour, cornstarch, baking powder and sa...   \n",
       "494898         4  ['Mix bread crumbs and cheese in one bowl.', '...   \n",
       "494931         4  ['Mix flour, salt, cheese and shortening.', 'A...   \n",
       "494941         8  ['Cut avocados and remove the pit and the skin...   \n",
       "\n",
       "                                                     tags  \\\n",
       "16      [time-to-make, course, main-ingredient, cuisin...   \n",
       "34      [15-minutes-or-less, time-to-make, course, mai...   \n",
       "35      [60-minutes-or-less, time-to-make, course, mai...   \n",
       "39      [60-minutes-or-less, time-to-make, course, mai...   \n",
       "41      [15-minutes-or-less, time-to-make, course, mai...   \n",
       "...                                                   ...   \n",
       "494868  [30-minutes-or-less, time-to-make, course, mai...   \n",
       "494878  [60-minutes-or-less, time-to-make, course, mai...   \n",
       "494898  [30-minutes-or-less, time-to-make, course, mai...   \n",
       "494931  [15-minutes-or-less, time-to-make, course, mai...   \n",
       "494941  [15-minutes-or-less, time-to-make, course, pre...   \n",
       "\n",
       "                                             search_terms  \n",
       "16                                    {appetizer, dinner}  \n",
       "34      {low-carb, snack, low-calorie, lunch, appetize...  \n",
       "35                                            {appetizer}  \n",
       "39             {low-calorie, low-carb, appetizer, dinner}  \n",
       "41                         {side, low-calorie, appetizer}  \n",
       "...                                                   ...  \n",
       "494868                                {appetizer, dinner}  \n",
       "494878                                  {side, appetizer}  \n",
       "494898                           {side, appetizer, baked}  \n",
       "494931                                  {side, appetizer}  \n",
       "494941                  {low-carb, appetizer, low-sodium}  \n",
       "\n",
       "[47845 rows x 10 columns]"
      ]
     },
     "execution_count": 6,
     "metadata": {},
     "output_type": "execute_result"
    }
   ],
   "source": [
    "df[df[\"search_terms\"].apply(lambda x: 'appetizer' in x)]"
   ]
  },
  {
   "cell_type": "markdown",
   "metadata": {},
   "source": [
    "\n",
    "#### State your main research question\n",
    "What patterns can I find in the ingredients of the recipes? Can I connect ingredients with tags or search terms? Can I generate good names for the recipes based on the other variables? What patterns might cluster analysis reveal about the different types of recipes and cuisines?\n",
    "#### Brief summary of where your data came from\n",
    "I got my data from a public Kaggle dataset of recipes collected from Food.com, one of the biggest recipe sites. Some work to clean the data has already been done, such as extracting the name of the ingredient from the raw list. The kaggle page (https://www.kaggle.com/datasets/shuyangli94/foodcom-recipes-with-search-terms-and-tags/data) doesn't describe the legality specifically, but they mention some studies that have used this dataset, and it seems to be okay to use.\n",
    "#### Explanation/description (in words) of all the variables in your data (italicized are targets.)\n",
    "- *Name*: a string which was the title of the recipe. It is of interest for text analysis and generation.\n",
    "- Description: the string description proveded for the recipe. This could be of interest for text analysis and alsocould help to categorize the data better.\n",
    "- Ingredients: this is the variable I'm the most excited about- I want to use the ingredients list to cluster recipes and predict their tags.\n",
    "- Ingredients_raw_str: I may or may not even use this variable, it is the non-cleaned version of the ingredients. It has quantities and instructions.\n",
    "- Serving_size: this variable has weight in grams for 1 serving of the recipe. \n",
    "- Servings: the number of servings a recipe makes.\n",
    "- Steps: plain text directions as an array of strings\n",
    "- *Tags*: user created tags that describe the recipe. I want to try and predict these dags.\n",
    "- *Search_terms*: these are values that would return the recipe if you searched them on the site. It could be useful to try and predict these as well.\n"
   ]
  },
  {
   "cell_type": "markdown",
   "metadata": {},
   "source": [
    "#### Summary statistics for all variables \n",
    "##### For numeric variables include: sample size, mean, standard deviation, and 5 number summary (min, q1, q2, q3, max)\n",
    "##### For categorical variables include: sample size, category counts\n",
    "\n",
    "Most of my variables are text-based, so it might take some improvization for this section."
   ]
  },
  {
   "cell_type": "code",
   "execution_count": 8,
   "metadata": {},
   "outputs": [
    {
     "name": "stdout",
     "output_type": "stream",
     "text": [
      "Total number of observations:\n"
     ]
    },
    {
     "data": {
      "text/plain": [
       "494963"
      ]
     },
     "execution_count": 8,
     "metadata": {},
     "output_type": "execute_result"
    }
   ],
   "source": [
    "print(\"Total number of observations:\")\n",
    "df.shape[0]"
   ]
  },
  {
   "cell_type": "markdown",
   "metadata": {},
   "source": [
    "The name and description are text fields. Every recipe has a name, but some recipes have no description."
   ]
  },
  {
   "cell_type": "code",
   "execution_count": 11,
   "metadata": {},
   "outputs": [
    {
     "name": "stdout",
     "output_type": "stream",
     "text": [
      "Sample size of descriptions:\n"
     ]
    },
    {
     "data": {
      "text/plain": [
       "485362"
      ]
     },
     "execution_count": 11,
     "metadata": {},
     "output_type": "execute_result"
    }
   ],
   "source": [
    "print(\"Sample size of descriptions:\")\n",
    "df[\"description\"].dropna().shape[0]"
   ]
  },
  {
   "cell_type": "code",
   "execution_count": 25,
   "metadata": {},
   "outputs": [
    {
     "name": "stdout",
     "output_type": "stream",
     "text": [
      "Description of the number of ingredients:\n"
     ]
    },
    {
     "data": {
      "text/plain": [
       "count    494963.000000\n",
       "mean        144.185139\n",
       "std          64.664102\n",
       "min           2.000000\n",
       "25%          98.000000\n",
       "50%         135.000000\n",
       "75%         179.000000\n",
       "max         843.000000\n",
       "Name: ingredients, dtype: float64"
      ]
     },
     "execution_count": 25,
     "metadata": {},
     "output_type": "execute_result"
    }
   ],
   "source": [
    "print(\"Description of the number of ingredients:\")\n",
    "num_ingredients = df[\"ingredients\"].apply(lambda x: len(x))\n",
    "\n",
    "num_ingredients.describe()"
   ]
  },
  {
   "cell_type": "code",
   "execution_count": 35,
   "metadata": {},
   "outputs": [
    {
     "name": "stdout",
     "output_type": "stream",
     "text": [
      "Description of the serving size\n"
     ]
    },
    {
     "data": {
      "text/plain": [
       "count    4.949630e+05\n",
       "mean     3.750634e+02\n",
       "std      2.702044e+03\n",
       "min     -4.750000e+02\n",
       "25%      1.220000e+02\n",
       "50%      2.190000e+02\n",
       "75%      3.810000e+02\n",
       "max      1.595816e+06\n",
       "Name: serving_size, dtype: float64"
      ]
     },
     "execution_count": 35,
     "metadata": {},
     "output_type": "execute_result"
    }
   ],
   "source": [
    "print(\"Description of the serving size\")\n",
    "serving_size = df[\"serving_size\"].apply(lambda x: int(x[3:-2]))\n",
    "serving_size.describe()"
   ]
  },
  {
   "cell_type": "code",
   "execution_count": 40,
   "metadata": {},
   "outputs": [
    {
     "name": "stdout",
     "output_type": "stream",
     "text": [
      "Description of the number of servings:\n"
     ]
    },
    {
     "data": {
      "text/plain": [
       "count    494963.000000\n",
       "mean          7.063164\n",
       "std          94.677417\n",
       "min           1.000000\n",
       "25%           4.000000\n",
       "50%           4.000000\n",
       "75%           8.000000\n",
       "max       32767.000000\n",
       "Name: servings, dtype: float64"
      ]
     },
     "execution_count": 40,
     "metadata": {},
     "output_type": "execute_result"
    }
   ],
   "source": [
    "print(\"Description of the number of servings:\")\n",
    "df[\"servings\"].describe()"
   ]
  },
  {
   "cell_type": "code",
   "execution_count": 39,
   "metadata": {},
   "outputs": [
    {
     "name": "stdout",
     "output_type": "stream",
     "text": [
      "Description of the number of servings:\n"
     ]
    },
    {
     "data": {
      "text/plain": [
       "id                                                                 72549\n",
       "name                                                   Alaskan Blue Stew\n",
       "description            I copied this recipe off the wall of Sourdough...\n",
       "ingredients            ['whale meat', 'unbleached flour', 'olive oil'...\n",
       "ingredients_raw_str    [\"1 (242000   lb)   blue whale meat, boned and...\n",
       "serving_size                                                   1 (199 g)\n",
       "servings                                                           32767\n",
       "steps                  ['Cut whale in bite size pieces (including blu...\n",
       "tags                   ['weeknight', 'time-to-make', 'course', 'main-...\n",
       "search_terms                                          {'stew', 'dinner'}\n",
       "Name: 51114, dtype: object"
      ]
     },
     "execution_count": 39,
     "metadata": {},
     "output_type": "execute_result"
    }
   ],
   "source": [
    "print(\"The max number of servings is from a recipe for whale meat stew...\")\n",
    "df.iloc[df[\"servings\"].idxmax()]"
   ]
  },
  {
   "cell_type": "code",
   "execution_count": 41,
   "metadata": {},
   "outputs": [
    {
     "name": "stdout",
     "output_type": "stream",
     "text": [
      "Summary of number of steps\n"
     ]
    },
    {
     "data": {
      "text/plain": [
       "count    494963.000000\n",
       "mean        598.236620\n",
       "std         428.468252\n",
       "min           2.000000\n",
       "25%         320.000000\n",
       "50%         501.000000\n",
       "75%         757.000000\n",
       "max       12688.000000\n",
       "Name: steps, dtype: float64"
      ]
     },
     "execution_count": 41,
     "metadata": {},
     "output_type": "execute_result"
    }
   ],
   "source": [
    "print(\"Summary of number of steps\")\n",
    "df[\"steps\"].apply(lambda x: len(x)).describe()"
   ]
  },
  {
   "cell_type": "code",
   "execution_count": 48,
   "metadata": {},
   "outputs": [
    {
     "name": "stdout",
     "output_type": "stream",
     "text": [
      "this is an outlier for number of steps, it isn't written in the usual format.\n"
     ]
    },
    {
     "data": {
      "text/plain": [
       "'[\\'First of all: these are not typical directions, but you need to know about needed equipment before attempting this cake. Here it is:\\', \\'8-inch round cake pan, at least 2 inches high.\\', \\'8-inch round cake pan with removable bottom or 8-inch springform pan.\\', \\'untreated heavy-duty jelly-roll pans.\\', \\'rubber spatula, offset spatula, and flexible 8-inch metal icing spatula.\\', \\'decorating turntable, lazy Susan, or inverted round cake pan.\\', \\'ridged plastic shelf liner, freezer paper, or 055 Mylar (I used the plastic shelf liner).\\', \\'parchment paper and waxed paper.\\', \\'MAKING THE CAKE:\\', \\'Position a rack in the lower third of the oven or just below the center of the oven and preheat the oven to 350°F Fit the bottom of an 8-inch round cake pan, one at least 2 inches high, with parchment paper and set aside.\\', \"Pour the clarified butter into a 1-quart bowl and stir in the vanilla extract, if you\\'re using it. The butter must be hot when added to the batter, so either keep the bowl in a skillet of hot water or reheat at the last minute.\", \\'Although the flour and cocoa were sifted before they were measured, they need to be triple-sifted together. Sift or sieve the flour and cocoa together 3 times, then set sifter on a plate or piece of waxed paper and return the dry ingredients to the sifter. Keep close at hand.\\', \\'Whisk the eggs and sugar together in a large heatproof bowl or the bowl of a heavy-duty mixer. Set the bowl over direct heat or in a pan of barely simmering water and heat the eggs, whisking constantly, until they are warm to the touch. Remove the bowl from the heat and, working with a heavy-duty mixer fitted with the whisk attachment (or using a hand-held mixer), beat the eggs at high speed until they are cool, have tripled in volume, and hold a ribbon when the whisk is lifted.\\', \\'Sift one third of the dry ingredients over the eggs and, using a large rubber spatula, fold in gently but thoroughly. When the color of the batter is almost uniform, fold in the rest of the flour-cocoa mixture.\\', \\'Spoon about 1 cup of the batter into the hot clarified butter add fold together until well blended. Spoon this over the batter and, using the large rubber spatula, gently fold into the batter.\\', \"Spoon the batter into the pan: there\\'s no need to smooth the top or rap the pan on the counter, as is sometimes done with foam-based cakes. Bake the cake for 25-30 minutes, or until top of the cake springs back when pressed gently. Transfer the pan to a rack and let the cake cool in the pan.\", \\'When the cake is completely cool, run a small knife around the sides of the pan to release the cake and unmold onto a rack; invert right side up onto a piece of parchment paper. (The cake can be made ahead to this point, wrapped well, and kept in the refrigerator for up to 2 days or frozen for up to 3 months. Thaw, still wrapped, at room temperature.).\\', \\'PREPARING THE CHOCOLATE:\\', \"The chocolate is going to be spread and then scraped into ruffles from four baking pans; if you don\\'t have enough pans, you can make the ruffles in 2 batches. Choose heavy-duty jelly-roll pans that are neither warped nor dented, neither nonstick non treated with special coatings. Keep them close at hand.\", \\'Melt the chocolate in a heatproof bowl set in a skillet of barely simmering water, in the top of a double boiler over an inch of simmering water, or in a microwave oven sat at medium power. Stir the chocolate regularly until it is fully melted. Smooth, and 115F to 120F (You can test the temperature with an instant-read thermometer or by putting a drop on your top lip - it should feel warm.).\\', \"Hold the bottom of one of the baking sheets over a burner (either gas or electric) and, moving it back and forth, heat it until it is warm but not hot enough to burn your fingers. Put the baking pan upside down on a flat surface and pour on about 1/3 cup of the chocolate. Use an offset spatula to spread the chocolate thinly and evenly over the bottom of the baking pan: the chocolate will only be about 1/16 inch thick. Refrigerate the pan for at least 30 minutes, or for as long as several hours, depending on your schedule. (It is better to chill the pans for a long time and let them come up to ruffling temperature - in which case they\\'ll stay at temperature longer - than to catch them the moment they turn cool enough to ruffle.) Repeat with rest of the chocolate and the other baking pans.\", \\'MAKING THE RUFFLES:\\', \\'To shape the ruffles, work with one baking pan of chocolate at a time. Remove a pan of chocolate from the refrigerator and leave it at room temperature to warm gradually until it is pliable enough to be scraped.\\', \\'Place the baking pan on a counter in front of you, a short side braced against your body. Hold the end of the blade of a then, flexible 8-inch metal icing spatula in your left hand (reverse procedures if left-handed) and, with your right hand, grab the blade close to the handle. You should have 4 to 5 inches of blade exposed and available for ruffling.\\', \"Using the top left corner of the pan as your staring point and imagining that corner of the pan as 12 o\\'clock, position your left hand in that corner, and your right at 2 o\\'clock. Press the edge of the blade against the chocolate at a very shallow angle, as if you were going to slide the spatula blade under the chocolate. Now slide the blade forward, moving your right hand down to 5 o\\'clock and then pivoting the blade to the left, all the way to the edge of the pan. As your right hand is moving down, so is your left, although not as far - your left hand will move down 4 to 5 inches. This is an important point - if you don\\'t move your left hand down, you\\'ll end up with tight curls of chocolate rather than ruffles. As you scrape and ruffle the chocolate against the blade and then make the pivot, the chocolate will gather against the blade -- use your left hand to pinch the chocolate so that the ruffles form a fan and the pinched part is a little handle. You\\'ve completed one ruffle.\", \"As you make each ruffle, place it on a parchment or waxed paper-lined baking sheet and refrigerate. When the ruffles harden, you can layer them between sheets of waxed paper. (Store them in a container in the refrigerator; they\\'ll keep for a few days.).\", \"Make 2 more ruffles across the top of the pan, using the previously Scraped area as your guide -- the left-hand corner of chocolate will be your 12 o\\'clock point and the cleaned-off section of the pan your edge, or end point. Make the next three ruffles just below; then turn the pan around to get to the chocolate on the bottom and make three more. With practice -- and ruffling takes lots of practice -- you\\'ll get 9 ruffles from each pan. Don\\'t worry if you get fewer at the start.\", \"If, as sometimes happens, your ruffles crack or you get rolls of chocolate, not ruffles, it might be because the chocolate is too cold -- give it a few more minutes at room temperature before you try again. If the chocolate melts and gets gooey next to the spatula, it\\'s too soft and needs a minute or two more in the refrigerator. When the temperature is just right -- smooth and pliable -- but you still can\\'t get a nicely fanned ruffle, angle the blade differently as you scrape.\", \\'FOR THE SYRUP:\\', \"Bring the water and sugar to the boil in a small saucepan, stirring to dissolve the sugar, and simmer for 2 to 3 minutes. Remove from the heat and cool. Add 1/4 cup of the eau-de-vie. Taste the syrup and decide if you\\'d like a little more of the liqueur; set aside.\", \\'FOR FILLING AND WRAP.\\', \\'Beat the creme fraiche with the vanilla extract to soft peaks, then add 2 Tbsp of the sugar, beating until thickened. Taste and add more sugar if you want it, then continue to beat until the cream just begins to stiffen. Cover and keep refrigerated until needed.\\', \\'Assembling the Cake -- Cut the cooled genoise into 3 even layers with a long serrated knife. Fit one layer into the bottom of a high-sided 8-inch round cake pan with a removable bottom or an 8-inch springform pan and brush the layer with syrup.\\', \\'Place the chopped chocolate in a small bowl and whisk in the boiling water until the chocolate is fully melted and smooth. Switch to a rubber spatula and folds 1/4 cup of the creme fraiche into the chocolate. Fold in another cup of the creme fraiche and then quickly, before it hardens, spread the chocolate creme fraiche evenly over the genoise layer in the pan.\\', \\'Moisten the second layer of genoise with syrup and set it, moistened side down, in the pan, pressing gently to level it on the chocolate creme fraiche. Moisten the top of the layer with some of the syrup and top with an even layer of fresh raspberries, leaving just a bit of space between each berry. Keep 1 perfect berry in reserve.\\', \\'Beat the remaining creme fraiche until it holds its shape. Spoon 1 to 2 cups of the creme fraiche over the berries and, using an offset spatula, delicately smooth the creme fraiche over and between the berries.\\', \\'Moisten the remaining layer of genoise with syrup and set it, moistened side down, into the pan, again pressing lightly to set it in place.\\', \\'Chilling the Cake -- Cover the cake and the remaining creme fraiche with plastic and refrigerate for at least 2 to 3 hours, or up to 24 hours.\\', \\'Run a knife around the sides of the cake, then release and remove the pan or the ring of the springform pan. Put the cake, still on its pan bottom, on a large piece of parchment paper and set the cake on a decorating turntable, a lazy Susan, or a large inverted cake pan.\\', \"Making the Wrap -- Using ridged plastic shelf liner (available in hardware and housewares stores), freezer paper, or 500 Mylar (from an art supply store), cut a strip 26 inches long and 3/8 inch wider than the height of the finished cake, about 3 inches. Place a larger piece of waxed paper on the counter in front of you --this is your drip sheet -- and put the strip on the waxed paper. (If you\\'re using ridged plastic or Mylar, put the smooth glossy side face up.).\", \\'Melt the chocolate in the top of a double boiler set over an inch of barely simmering water or in a microwave oven set at medium power, stirring chocolate once or twice until melted and smooth. The chocolate should be between 115F to 120°F Pour the chocolate down the center of the strip, spreading it with an offset spatula across the entire strip and beyond -- let it run over a bit onto the waxed paper. (You can scrape up the chocolate from the waxed paper later and remelt it when you need a dollop of chocolate to finish the cake.).\\', \\'Slip the point of a small knife under one edge of the chocolate-coated strip and grab the edges of the strip with your fingers.\\', \\'Slide your free hand under the strip and grab the other end. Lift the strip and fit it neatly around the cake, positioning it so that the chocolate side is against the cake. Press one end against the cake and leave the other end standing away from the cake at the point where it would overlap if you pressed it closed. Slip a small piece of waxed paper into this spot, just to hold your place.\\', \\'ASSEMBLY AND FINISHING.\\', \\'Chilling the Wrapped Cake -- Refrigerate the cake of at least 1 hour, until the chocolate hardens.\\', \\'Finishing the Wrapped Cake -- Place the cake on the decorating turntable and spread the remained creme fraiche over the top, spreading it out to the edge of the band.\\', \"Remove the chocolate ruffles from the refrigerator and, beginning at the outside edge, arrange the ruffles in a circle, planting them gently in the creme fraiche and allowing their frilly edges to extend beyond the cake\\'s rim. Continue to arrange the ruffles in slightly overlapping concentric circles until the creme fraiche is covered. Put the reserved perfect raspberry in the center of the cake and chill the cake for about 15 minutes, until firm (or up to 6 hours, if necessary), before removing the plastic and serving.\", \\'To remove the plastic on the chocolate band, discard the waxed paper \"place keeper\" and peel away an inch of the plastic from the end of the band attached to the cake. Put a dollop of melted chocolate on that end to act as glue and overlap the other end of the band, pressing lightly to seal it. Carefully remove the plastic. If the plastic sticks, put the cake back in the refrigerator for about 10 minutes, then try again.\\', \"To cut the cake, dip a long sharp serrated knife into hot water, wipe it dry, and cut straight down. Since the first piece is often difficult to remove, it\\'s best to make it a generous, easier-to-remove slice.\", \\'Storing -- Although the parts of the cake can be made well in advance, the assembled cake should be served the day it is made.\\']'"
      ]
     },
     "execution_count": 48,
     "metadata": {},
     "output_type": "execute_result"
    }
   ],
   "source": [
    "print(\"this is an outlier for number of steps, it isn't written in the usual format.\")\n",
    "df.iloc[df[\"steps\"].apply(lambda x: len(x)).idxmax()][\"steps\"]"
   ]
  },
  {
   "cell_type": "code",
   "execution_count": 49,
   "metadata": {},
   "outputs": [
    {
     "name": "stdout",
     "output_type": "stream",
     "text": [
      "Summary of number of tags\n"
     ]
    },
    {
     "data": {
      "text/plain": [
       "count    494963.000000\n",
       "mean        242.596499\n",
       "std          99.800796\n",
       "min           4.000000\n",
       "25%         168.000000\n",
       "50%         230.000000\n",
       "75%         304.000000\n",
       "max        1029.000000\n",
       "Name: tags, dtype: float64"
      ]
     },
     "execution_count": 49,
     "metadata": {},
     "output_type": "execute_result"
    }
   ],
   "source": [
    "print(\"Summary of number of tags\")\n",
    "df[\"tags\"].apply(lambda x: len(x)).describe()"
   ]
  },
  {
   "cell_type": "code",
   "execution_count": 50,
   "metadata": {},
   "outputs": [
    {
     "name": "stdout",
     "output_type": "stream",
     "text": [
      "Summary of number of search terms\n"
     ]
    },
    {
     "data": {
      "text/plain": [
       "count    494963.000000\n",
       "mean         32.087202\n",
       "std          19.781546\n",
       "min           7.000000\n",
       "25%          19.000000\n",
       "50%          28.000000\n",
       "75%          43.000000\n",
       "max         164.000000\n",
       "Name: search_terms, dtype: float64"
      ]
     },
     "execution_count": 50,
     "metadata": {},
     "output_type": "execute_result"
    }
   ],
   "source": [
    "print(\"Summary of number of search terms\")\n",
    "df[\"search_terms\"].apply(lambda x: len(x)).describe()"
   ]
  },
  {
   "cell_type": "markdown",
   "metadata": {},
   "source": [
    "#### Two or three interesting graphs that start to address your main question of interest\n",
    "\n",
    "I'm not certain that my question of interest can really be addressed with a graph. I'll need to do some more work to analyze the text here and start making predictions."
   ]
  },
  {
   "cell_type": "markdown",
   "metadata": {},
   "source": [
    "#### Answer these questions:\n",
    "##### Were there any challenges or obstacles in finding the right dataset for your project?\n",
    "It took a while to find a good dataset having to do with food, but that would present a significant research question I could answer. I like this one because of the ingredients list. I'm interested in analyzing the connections between ingredients, and this dataset is perfect for that.\n",
    "##### Are there any other problems, concerns, or challenges that you are facing regarding your project?\n",
    "I need to learn more about text analysis and pre-trained models, since that's going to be a big part of how I analyze this data."
   ]
  }
 ],
 "metadata": {
  "kernelspec": {
   "display_name": "Python 3",
   "language": "python",
   "name": "python3"
  },
  "language_info": {
   "codemirror_mode": {
    "name": "ipython",
    "version": 3
   },
   "file_extension": ".py",
   "mimetype": "text/x-python",
   "name": "python",
   "nbconvert_exporter": "python",
   "pygments_lexer": "ipython3",
   "version": "3.12.7"
  }
 },
 "nbformat": 4,
 "nbformat_minor": 2
}
