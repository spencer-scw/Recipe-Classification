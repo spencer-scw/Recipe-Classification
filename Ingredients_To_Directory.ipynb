{
 "cells": [
  {
   "cell_type": "markdown",
   "metadata": {},
   "source": [
    "## Putting ingredients in a directory for TensorFlow"
   ]
  },
  {
   "cell_type": "code",
   "execution_count": 2,
   "metadata": {},
   "outputs": [],
   "source": [
    "import pandas as pd\n",
    "import numpy as np\n",
    "from ast import literal_eval"
   ]
  },
  {
   "cell_type": "code",
   "execution_count": 3,
   "metadata": {},
   "outputs": [],
   "source": [
    "df = pd.read_csv('recipes_w_search_terms.csv')"
   ]
  },
  {
   "cell_type": "code",
   "execution_count": 4,
   "metadata": {},
   "outputs": [],
   "source": [
    "# Preprocess list values\n",
    "df[\"ingredients\"] = df[\"ingredients\"].apply(literal_eval)\n",
    "df[\"steps\"] = df[\"steps\"].apply(literal_eval)\n",
    "df[\"tags\"] = df[\"tags\"].apply(literal_eval)\n",
    "df[\"search_terms\"] = df[\"search_terms\"].apply(literal_eval)"
   ]
  },
  {
   "cell_type": "code",
   "execution_count": 5,
   "metadata": {},
   "outputs": [],
   "source": [
    "def categorize_mealtimes(terms):\n",
    "    for meal in ['breakfast', 'lunch', 'dinner', 'dessert', \"side\"]:\n",
    "        if meal in terms: return meal\n",
    "    return 'other'\n",
    "df[\"meal\"] = df[\"search_terms\"].apply(categorize_mealtimes)\n",
    "df[\"meal\"] = pd.Categorical(df[\"meal\"])\n",
    "df_labeled = df[df[\"meal\"] != \"other\"]"
   ]
  },
  {
   "cell_type": "code",
   "execution_count": 6,
   "metadata": {},
   "outputs": [],
   "source": [
    "from sklearn.model_selection import train_test_split\n",
    "\n",
    "ingredients = df_labeled[\"ingredients\"].apply('\\t'.join).apply(lambda x: x.replace(\" \", \"_\")).apply(lambda x: x.replace(\"\\t\", \" \"))\n",
    "\n",
    "raw_train, raw_test, y_train, y_test = train_test_split(ingredients, df_labeled[\"meal\"], test_size=.2)"
   ]
  },
  {
   "cell_type": "code",
   "execution_count": 7,
   "metadata": {},
   "outputs": [],
   "source": [
    "for i, (ingredients, meal) in enumerate (zip(raw_test, y_test)):\n",
    "    f = open(f\"ingredients/test/{meal}/recipe{i}.txt\", \"a\")\n",
    "    f.write(ingredients)\n",
    "    f.close()"
   ]
  },
  {
   "cell_type": "code",
   "execution_count": 8,
   "metadata": {},
   "outputs": [],
   "source": [
    "for i, (ingredients, meal) in enumerate (zip(raw_train, y_train)):\n",
    "    f = open(f\"ingredients/train/{meal}/recipe{i}.txt\", \"a\")\n",
    "    f.write(ingredients)\n",
    "    f.close()"
   ]
  }
 ],
 "metadata": {
  "kernelspec": {
   "display_name": "venv",
   "language": "python",
   "name": "python3"
  },
  "language_info": {
   "codemirror_mode": {
    "name": "ipython",
    "version": 3
   },
   "file_extension": ".py",
   "mimetype": "text/x-python",
   "name": "python",
   "nbconvert_exporter": "python",
   "pygments_lexer": "ipython3",
   "version": "3.12.7"
  }
 },
 "nbformat": 4,
 "nbformat_minor": 2
}
